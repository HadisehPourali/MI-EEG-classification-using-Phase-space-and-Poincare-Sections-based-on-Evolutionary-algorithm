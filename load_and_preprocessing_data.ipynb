{
 "cells": [
  {
   "cell_type": "code",
   "execution_count": 1,
   "id": "06f245b5",
   "metadata": {},
   "outputs": [],
   "source": [
    "import scipy.io as spio\n",
    "import scipy.signal as spsignal\n",
    "import numpy as np\n",
    "from ipynb.fs.full.cutoutTrials import *\n",
    "\n",
    "def load_and_preprocessing_data():\n",
    "    \n",
    "    dataset_name = ['a', 'b', 'f', 'g']\n",
    "    dataSet = spio.loadmat(f'BCICIV_calib_ds1{dataset_name[0]}.mat')\n",
    "    butter = spio.loadmat('butter830.mat')\n",
    "\n",
    "    butter_a = butter['a'][0]\n",
    "    butter_b = butter['b'][0]\n",
    "\n",
    "    dataSet['cnt'] = spsignal.lfilter(butter_a, butter_b, dataSet['cnt'])\n",
    "    \n",
    "    #------- Select channels and convert cnt into float ------\n",
    "\n",
    "    vector = np.vectorize(np.float)\n",
    "    x = dataSet['cnt']\n",
    "    x = vector(x)\n",
    "    dataSet['cnt'] = 0.1*x\n",
    "    \n",
    "    #-------- Cut EEG into tirals --------\n",
    "\n",
    "    xcnt = dataSet['cnt']\n",
    "    pos = dataSet['mrk']['pos'][0][0]\n",
    "    opt_ival = [2000,6000]\n",
    "    fs =  dataSet['nfo']['fs'][0][0][0][0]\n",
    "\n",
    "    xepo = cutoutTrials(xcnt, pos, opt_ival, fs)\n",
    "    \n",
    "    #----- Find indices of training and test set------\n",
    "\n",
    "    label = dataSet['mrk']['y'][0][0][0]\n",
    "    xdata = xepo[:,:,:]\n",
    "    label = (label/2) + 1.5\n",
    "    \n",
    "    return xdata, label\n"
   ]
  },
  {
   "cell_type": "code",
   "execution_count": null,
   "id": "722b71cd",
   "metadata": {},
   "outputs": [],
   "source": []
  }
 ],
 "metadata": {
  "kernelspec": {
   "display_name": "Python 3",
   "language": "python",
   "name": "python3"
  },
  "language_info": {
   "codemirror_mode": {
    "name": "ipython",
    "version": 3
   },
   "file_extension": ".py",
   "mimetype": "text/x-python",
   "name": "python",
   "nbconvert_exporter": "python",
   "pygments_lexer": "ipython3",
   "version": "3.9.4"
  }
 },
 "nbformat": 4,
 "nbformat_minor": 5
}
