{
 "cells": [
  {
   "cell_type": "code",
   "execution_count": null,
   "id": "f12eea7b",
   "metadata": {},
   "outputs": [],
   "source": [
    "def Evaluated(ACTUAL,PREDICTED,class_number):\n",
    "\n",
    "    N = len(ACTUAL) * len(ACTUAL[0])\n",
    "    \n",
    "    true_label = 0\n",
    "\n",
    "    for i in range(len(ACTUAL)):\n",
    "        for j in range(len(ACTUAL[0])):\n",
    "            if (ACTUAL[i][j] == PREDICTED[i][j]):\n",
    "                true_label += 1\n",
    "\n",
    "    accuracy = true_label / N\n",
    "    \n",
    "    return accuracy"
   ]
  }
 ],
 "metadata": {
  "kernelspec": {
   "display_name": "Python 3",
   "language": "python",
   "name": "python3"
  },
  "language_info": {
   "codemirror_mode": {
    "name": "ipython",
    "version": 3
   },
   "file_extension": ".py",
   "mimetype": "text/x-python",
   "name": "python",
   "nbconvert_exporter": "python",
   "pygments_lexer": "ipython3",
   "version": "3.9.4"
  }
 },
 "nbformat": 4,
 "nbformat_minor": 5
}
