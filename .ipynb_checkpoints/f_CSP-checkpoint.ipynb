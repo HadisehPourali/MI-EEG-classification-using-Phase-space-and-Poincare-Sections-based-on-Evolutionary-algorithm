{
 "cells": [
  {
   "cell_type": "code",
   "execution_count": 1,
   "id": "e4f1c1e1",
   "metadata": {},
   "outputs": [],
   "source": [
    "import scipy.linalg as la\n",
    "import numpy as np\n",
    "\n",
    "def f_CSP(Class1_Data, Class2_Data):\n",
    "    \n",
    "    Rsum = 0 \n",
    "    \n",
    "    # finding the covariance of each class and composite covariance\n",
    "    s = 0\n",
    "    for j in range(Class1_Data.shape[2]):\n",
    "        R1 = np.dot(Class1_Data[:, :, j], Class1_Data[:, :, j].T) / np.trace(np.dot(Class1_Data[:, :, j], Class1_Data[:, :, j].T))      \n",
    "        s = s + R1\n",
    "       \n",
    "    s = s / (Class1_Data.shape[2])\n",
    "    R1t = s\n",
    "        \n",
    "    Rsum = Rsum + s\n",
    "        \n",
    "    s = 0\n",
    "    for j in range(Class2_Data.shape[2]):\n",
    "        R1 = np.dot(Class2_Data[:, :, j], Class2_Data[:, :, j].T) / np.trace(np.dot(Class2_Data[:, :, j], Class2_Data[:, :, j].T))      \n",
    "        s = s + R1\n",
    "        \n",
    "    s = s /(Class2_Data.shape[2])\n",
    "    R2t = s\n",
    "        \n",
    "    Rsum = Rsum + s\n",
    "\n",
    "   \n",
    "    # Find Eigenvalues and Eigenvectors of RC\n",
    "    # Sort eigenvalues in descending order\n",
    "    EVecsum, EValsum = la.eig(Rsum); \n",
    "    ord = np.argsort(EVecsum)\n",
    "    ord = ord[::-1] # argsort gives ascending order, flip to get descending\n",
    "    EVecsum = EVecsum[ord]\n",
    "    EValsum = EValsum[:,ord]\n",
    "    \n",
    "    # Find Whitening Transformation Matrix\n",
    "    P = np.dot(np.sqrt(la.inv(np.diag(EVecsum))), EValsum.T)\n",
    "    \n",
    "    # Whiten Data Using Whiting Transform \n",
    "    s1t = np.dot(P, np.dot(R1t, P.T))\n",
    "    s2t = np.dot(P, np.dot(R2t, P.T))\n",
    "    \n",
    "    # generalized eigenvectors/values\n",
    "    B,D = la.eig(s1t, s2t)\n",
    "    ord1 = np.argsort(B)\n",
    "    ord1 = ord1[::-1]\n",
    "    B = B[ord1]\n",
    "    D = D[:,ord1]\n",
    "    \n",
    "    # Resulting Projection Matrix-these are the spatial filter coefficients\n",
    "    filters = np.dot(D.T, P)\n",
    "    \n",
    "    return filters.astype(np.float32)\n",
    "\n"
   ]
  },
  {
   "cell_type": "code",
   "execution_count": null,
   "id": "2154e3bb",
   "metadata": {},
   "outputs": [],
   "source": []
  },
  {
   "cell_type": "code",
   "execution_count": null,
   "id": "1ab46b71",
   "metadata": {},
   "outputs": [],
   "source": []
  }
 ],
 "metadata": {
  "kernelspec": {
   "display_name": "Python 3",
   "language": "python",
   "name": "python3"
  },
  "language_info": {
   "codemirror_mode": {
    "name": "ipython",
    "version": 3
   },
   "file_extension": ".py",
   "mimetype": "text/x-python",
   "name": "python",
   "nbconvert_exporter": "python",
   "pygments_lexer": "ipython3",
   "version": "3.9.4"
  }
 },
 "nbformat": 4,
 "nbformat_minor": 5
}
