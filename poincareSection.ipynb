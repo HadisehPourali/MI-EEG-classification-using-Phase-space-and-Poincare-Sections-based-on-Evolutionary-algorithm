{
 "cells": [
  {
   "cell_type": "code",
   "execution_count": 1,
   "id": "3d1fbedf",
   "metadata": {},
   "outputs": [],
   "source": [
    "def poincareSection(x1, y1, x2, y2, a, b, c):\n",
    "    is_intersection = 1\n",
    "    dy = y2 - y1\n",
    "    dx = x2 - x1\n",
    "    \n",
    "    if((dx == 0 and b == 0)):\n",
    "        is_intersection = 0\n",
    "        xI = 0\n",
    "        yI = 0\n",
    "    elif(dx == 0):\n",
    "        xI = x1\n",
    "        yI = (-a / b) * xI - (c / b)\n",
    "    elif(b == 0):\n",
    "        m = dy / dx  \n",
    "        xI = -c / a\n",
    "        yI = m * xI - (((dy * x1 ) - (dx * y1)) / dx)\n",
    "    elif((dy == 0 and a == 0)):\n",
    "        is_intersection = 0\n",
    "        xI = 0\n",
    "        yI = 0\n",
    "    elif(dy == 0):\n",
    "        yI = y1\n",
    "        xI = (-b/a) * yI - (c / a)\n",
    "    elif(a == 0):\n",
    "        m2 = dx / dy  \n",
    "        yI = -c / b\n",
    "        xI = m2 * yI - (((dx * y1) - (dy * x1)) / dy)\n",
    "    elif((dy / dx) == (-a / b)):\n",
    "        is_intersection = 0\n",
    "        xI = 0\n",
    "        yI = 0 \n",
    "    else:\n",
    "        m = dy / dx\n",
    "        xI = ((((dy * x1) - (dx * y1)) / dx) - (c / b)) / (m + (a / b))\n",
    "        yI = m * xI - (((dy * x1) - (dx * y1)) / dx)\n",
    "    if (is_intersection != 0):\n",
    "        if(((xI >= x1 and xI <= x2) or (xI >= x2 and xI <= x1)) and ((yI >= y1 and yI <= y2) or (yI >= y2 and yI <= y1))):\n",
    "            is_intersection = 1\n",
    "        else:\n",
    "            is_intersection = 0\n",
    "\n",
    "    return xI, yI, is_intersection\n",
    "\n"
   ]
  },
  {
   "cell_type": "code",
   "execution_count": null,
   "id": "c47d871e",
   "metadata": {},
   "outputs": [],
   "source": []
  }
 ],
 "metadata": {
  "kernelspec": {
   "display_name": "Python 3",
   "language": "python",
   "name": "python3"
  },
  "language_info": {
   "codemirror_mode": {
    "name": "ipython",
    "version": 3
   },
   "file_extension": ".py",
   "mimetype": "text/x-python",
   "name": "python",
   "nbconvert_exporter": "python",
   "pygments_lexer": "ipython3",
   "version": "3.9.4"
  }
 },
 "nbformat": 4,
 "nbformat_minor": 5
}
