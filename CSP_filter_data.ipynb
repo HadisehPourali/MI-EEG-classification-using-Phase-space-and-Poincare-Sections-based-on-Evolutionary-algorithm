{
 "cells": [
  {
   "cell_type": "code",
   "execution_count": 1,
   "id": "935f407e",
   "metadata": {},
   "outputs": [],
   "source": [
    "from ipynb.fs.full.f_CSP import *\n",
    "\n",
    "def CSP_filter_data(xdata, label):\n",
    "    \n",
    "    M = 2\n",
    "    class1 = 0\n",
    "    class2 = 0\n",
    "    counter1 = 0\n",
    "    counter2 = 0\n",
    "    for index in range(xdata.shape[2]):\n",
    "        if label[index] == 1:\n",
    "            counter1 += 1\n",
    "        else:\n",
    "            counter2 += 1\n",
    "    \n",
    "    # seperate class 1 and class 2 data\n",
    "    Class1_Data = np.empty((xdata.shape[1], xdata.shape[0], counter1))\n",
    "    Class2_Data = np.empty((xdata.shape[1], xdata.shape[0], counter2))\n",
    "    for index in range(xdata.shape[2]):\n",
    "        if label[index] == 1:\n",
    "            Class1_Data[:, :, class1] = xdata[:, :, index].T\n",
    "            class1 = class1 + 1\n",
    "\n",
    "        elif label[index] == 2:\n",
    "            Class2_Data[:,:,class2] = xdata[:, :, index].T\n",
    "            class2 = class2 + 1\n",
    "\n",
    "    filters = f_CSP(Class1_Data, Class2_Data)\n",
    "\n",
    "    fdata = np.empty((2*M, xdata.shape[0], xdata.shape[2]))\n",
    "    for index in range(Class1_Data.shape[2]):\n",
    "        fdata[0:2 * M, 0:xdata.shape[0], index] = np.dot(filters[0:2 * M, :], Class1_Data[:, :, index])\n",
    "\n",
    "    for index in range(Class2_Data.shape[2]):\n",
    "        fdata[0:2 * M, 0:xdata.shape[0], index + class1 -1] = np.dot(filters[0:2 * M, :], Class2_Data[:, :, index])\n",
    "\n",
    "    label[0:class1 - 1] = 1\n",
    "    label[class1:xdata.shape[2]] = 2\n",
    "    \n",
    "    return fdata, label"
   ]
  },
  {
   "cell_type": "code",
   "execution_count": null,
   "id": "ca7cf3df",
   "metadata": {},
   "outputs": [],
   "source": []
  }
 ],
 "metadata": {
  "kernelspec": {
   "display_name": "Python 3",
   "language": "python",
   "name": "python3"
  },
  "language_info": {
   "codemirror_mode": {
    "name": "ipython",
    "version": 3
   },
   "file_extension": ".py",
   "mimetype": "text/x-python",
   "name": "python",
   "nbconvert_exporter": "python",
   "pygments_lexer": "ipython3",
   "version": "3.9.4"
  }
 },
 "nbformat": 4,
 "nbformat_minor": 5
}
