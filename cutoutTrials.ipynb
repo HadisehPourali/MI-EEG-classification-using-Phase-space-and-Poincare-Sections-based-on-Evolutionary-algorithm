{
 "cells": [
  {
   "cell_type": "code",
   "execution_count": 1,
   "id": "d855b9e7",
   "metadata": {},
   "outputs": [],
   "source": [
    "import numpy as np\n",
    "\n",
    "def cutoutTrials(xcnt, pos, ival, fs):\n",
    "    # cutoutTrials - cuts out trials from continuous EEG recording\n",
    "    # xepo = cutoutTrials(xcnt, pos, ival, fs)\n",
    "    # ival = [t1,t2] (ms)\n",
    "    \n",
    "    dim = xcnt.shape[1]\n",
    "    posdim = pos.shape[1]\n",
    "    \n",
    "    i1 = int(np.floor(ival[0]/1000*fs))\n",
    "    i2 = int(np.floor(ival[1]/1000*fs))\n",
    "\n",
    "    xepo = np.zeros((i2-i1, dim, posdim))\n",
    "\n",
    "    for i in range(posdim):\n",
    "        xepo[:,:,i] = xcnt[pos[0,i]+i1:pos[0,i]+i2,:]\n",
    "    \n",
    "    return xepo"
   ]
  },
  {
   "cell_type": "code",
   "execution_count": null,
   "id": "46bb0e2d",
   "metadata": {},
   "outputs": [],
   "source": []
  }
 ],
 "metadata": {
  "kernelspec": {
   "display_name": "Python 3",
   "language": "python",
   "name": "python3"
  },
  "language_info": {
   "codemirror_mode": {
    "name": "ipython",
    "version": 3
   },
   "file_extension": ".py",
   "mimetype": "text/x-python",
   "name": "python",
   "nbconvert_exporter": "python",
   "pygments_lexer": "ipython3",
   "version": "3.9.4"
  }
 },
 "nbformat": 4,
 "nbformat_minor": 5
}
